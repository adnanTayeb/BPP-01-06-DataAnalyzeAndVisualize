{
  "nbformat": 4,
  "nbformat_minor": 0,
  "metadata": {
    "colab": {
      "provenance": []
    },
    "kernelspec": {
      "name": "python3",
      "display_name": "Python 3"
    },
    "language_info": {
      "name": "python"
    }
  },
  "cells": [
    {
      "cell_type": "code",
      "execution_count": 1,
      "metadata": {
        "id": "P5To02jfVqqL",
        "colab": {
          "base_uri": "https://localhost:8080/"
        },
        "outputId": "85a0e675-f215-4ce0-8c0c-43efb0161bdf"
      },
      "outputs": [
        {
          "output_type": "stream",
          "name": "stdout",
          "text": [
            "--2024-12-20 18:33:16--  https://raw.githubusercontent.com/Abdullahfoysal/pp11-Project-AnalyzeAndVisualize/refs/heads/main/student_data.csv\n",
            "Resolving raw.githubusercontent.com (raw.githubusercontent.com)... 185.199.111.133, 185.199.108.133, 185.199.109.133, ...\n",
            "Connecting to raw.githubusercontent.com (raw.githubusercontent.com)|185.199.111.133|:443... connected.\n",
            "HTTP request sent, awaiting response... 200 OK\n",
            "Length: 133023 (130K) [text/plain]\n",
            "Saving to: ‘student_data.csv’\n",
            "\n",
            "\rstudent_data.csv      0%[                    ]       0  --.-KB/s               \rstudent_data.csv    100%[===================>] 129.91K  --.-KB/s    in 0.01s   \n",
            "\n",
            "2024-12-20 18:33:16 (8.48 MB/s) - ‘student_data.csv’ saved [133023/133023]\n",
            "\n"
          ]
        }
      ],
      "source": [
        "import pandas as pd\n",
        "import matplotlib.pyplot as plt\n",
        "\n",
        "!wget https://raw.githubusercontent.com/Abdullahfoysal/pp11-Project-AnalyzeAndVisualize/refs/heads/main/student_data.csv"
      ]
    },
    {
      "cell_type": "code",
      "source": [
        "# Count the total number of the unique departments\n",
        "\n",
        "student_data = pd.read_csv(\"student_data.csv\")\n",
        "\n",
        "unique_departments = student_data[\"department\"].nunique()\n",
        "\n",
        "print(f\"Total number unique departments: {unique_departments}\")"
      ],
      "metadata": {
        "colab": {
          "base_uri": "https://localhost:8080/"
        },
        "id": "8m8W7FV-Vl-K",
        "outputId": "5ef25e06-db4c-49f9-e97a-0ff5664a93a2"
      },
      "execution_count": 10,
      "outputs": [
        {
          "output_type": "stream",
          "name": "stdout",
          "text": [
            "Total number unique departments: 5\n"
          ]
        }
      ]
    }
  ]
}