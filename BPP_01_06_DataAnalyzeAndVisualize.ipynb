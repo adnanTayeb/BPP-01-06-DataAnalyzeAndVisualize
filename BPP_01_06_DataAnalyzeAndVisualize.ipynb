{
  "nbformat": 4,
  "nbformat_minor": 0,
  "metadata": {
    "colab": {
      "provenance": []
    },
    "kernelspec": {
      "name": "python3",
      "display_name": "Python 3"
    },
    "language_info": {
      "name": "python"
    }
  },
  "cells": [
    {
      "cell_type": "code",
      "execution_count": 1,
      "metadata": {
        "id": "P5To02jfVqqL",
        "colab": {
          "base_uri": "https://localhost:8080/"
        },
        "outputId": "85a0e675-f215-4ce0-8c0c-43efb0161bdf"
      },
      "outputs": [
        {
          "output_type": "stream",
          "name": "stdout",
          "text": [
            "--2024-12-20 18:33:16--  https://raw.githubusercontent.com/Abdullahfoysal/pp11-Project-AnalyzeAndVisualize/refs/heads/main/student_data.csv\n",
            "Resolving raw.githubusercontent.com (raw.githubusercontent.com)... 185.199.111.133, 185.199.108.133, 185.199.109.133, ...\n",
            "Connecting to raw.githubusercontent.com (raw.githubusercontent.com)|185.199.111.133|:443... connected.\n",
            "HTTP request sent, awaiting response... 200 OK\n",
            "Length: 133023 (130K) [text/plain]\n",
            "Saving to: ‘student_data.csv’\n",
            "\n",
            "\rstudent_data.csv      0%[                    ]       0  --.-KB/s               \rstudent_data.csv    100%[===================>] 129.91K  --.-KB/s    in 0.01s   \n",
            "\n",
            "2024-12-20 18:33:16 (8.48 MB/s) - ‘student_data.csv’ saved [133023/133023]\n",
            "\n"
          ]
        }
      ],
      "source": [
        "import pandas as pd\n",
        "import matplotlib.pyplot as plt\n",
        "\n",
        "!wget https://raw.githubusercontent.com/Abdullahfoysal/pp11-Project-AnalyzeAndVisualize/refs/heads/main/student_data.csv"
      ]
    },
    {
      "cell_type": "code",
      "source": [
        "# Find the top 5 students with the highest CGPA\n",
        "\n",
        "student_data = pd.read_csv(\"student_data.csv\")\n",
        "\n",
        "top_5_students = student_data.nlargest(5, 'cgpa')\n",
        "\n",
        "print(top_5_students)"
      ],
      "metadata": {
        "colab": {
          "base_uri": "https://localhost:8080/"
        },
        "id": "8m8W7FV-Vl-K",
        "outputId": "f2e3d6eb-2cd8-4f82-918d-b199001a74b8"
      },
      "execution_count": 8,
      "outputs": [
        {
          "output_type": "stream",
          "name": "stdout",
          "text": [
            "      id first_name last_name                        email    gender  \\\n",
            "35    36      Keith     Piner              kpinerz@fda.gov      Male   \n",
            "461  462     Willow  Heggadon          wheggadonct@home.pl    Female   \n",
            "34    35     Darsie     Suter             dsutery@dell.com    Female   \n",
            "268  269      Henri  Bratcher    hbratcher7g@bigcartel.com  Bigender   \n",
            "470  471     Terrye   Bointon  tbointond2@surveymonkey.com    Female   \n",
            "\n",
            "         ip_address  cgpa  passing_year   department  attendance  \\\n",
            "35      213.60.85.1  4.00        2020.0     Medicine       72.63   \n",
            "461   231.176.34.59  4.00        2003.0         Arts        2.02   \n",
            "34   122.171.78.159  3.99        2009.0         Arts         NaN   \n",
            "268      31.1.33.54  3.99        2012.0         Arts       19.98   \n",
            "470  122.126.248.52  3.99        2024.0  Engineering       74.31   \n",
            "\n",
            "    home_district  abroad_study  student_id  graduation_date  \\\n",
            "35        Houston          True          36             2016   \n",
            "461       Chicago         False         462             2007   \n",
            "34    Los Angeles         False          35             2009   \n",
            "268       Chicago          True         269             2015   \n",
            "470      New York         False         471             2012   \n",
            "\n",
            "    study_abroad_country study_abroad_city  hsc_gpa  ssc_gpa  \n",
            "35                 China          Songyuan        3        3  \n",
            "461         South Africa           Midrand        4        5  \n",
            "34             Indonesia            Dlemer        2        3  \n",
            "268                 Peru            Iquipi        4        1  \n",
            "470               Canada    Saint-Ambroise        5        2  \n"
          ]
        }
      ]
    }
  ]
}