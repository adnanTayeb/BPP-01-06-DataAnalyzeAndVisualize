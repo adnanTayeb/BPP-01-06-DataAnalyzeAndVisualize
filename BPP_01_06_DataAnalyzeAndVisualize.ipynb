{
  "cells": [
    {
      "cell_type": "code",
      "execution_count": 31,
      "metadata": {
        "colab": {
          "base_uri": "https://localhost:8080/"
        },
        "id": "P5To02jfVqqL",
        "outputId": "e74e97a9-e30d-4471-c90c-d3fe03dacfce"
      },
      "outputs": [
        {
          "output_type": "stream",
          "name": "stdout",
          "text": [
            "--2024-12-21 04:58:11--  https://raw.githubusercontent.com/Abdullahfoysal/pp11-Project-AnalyzeAndVisualize/refs/heads/main/student_data.csv\n",
            "Resolving raw.githubusercontent.com (raw.githubusercontent.com)... 185.199.110.133, 185.199.111.133, 185.199.109.133, ...\n",
            "Connecting to raw.githubusercontent.com (raw.githubusercontent.com)|185.199.110.133|:443... connected.\n",
            "HTTP request sent, awaiting response... 200 OK\n",
            "Length: 133023 (130K) [text/plain]\n",
            "Saving to: ‘student_data.csv.1’\n",
            "\n",
            "student_data.csv.1  100%[===================>] 129.91K  --.-KB/s    in 0.04s   \n",
            "\n",
            "2024-12-21 04:58:12 (3.18 MB/s) - ‘student_data.csv.1’ saved [133023/133023]\n",
            "\n"
          ]
        }
      ],
      "source": [
        "import pandas as pd\n",
        "import matplotlib.pyplot as plt\n",
        "\n",
        "!wget https://raw.githubusercontent.com/Abdullahfoysal/pp11-Project-AnalyzeAndVisualize/refs/heads/main/student_data.csv"
      ]
    },
    {
      "cell_type": "code",
      "execution_count": 37,
      "metadata": {
        "colab": {
          "base_uri": "https://localhost:8080/"
        },
        "id": "8m8W7FV-Vl-K",
        "outputId": "65e2f76f-c41f-48f1-f7e8-6bd905ffcd0b"
      },
      "outputs": [
        {
          "output_type": "stream",
          "name": "stdout",
          "text": [
            "Total number unique departments: 5\n"
          ]
        }
      ],
      "source": [
        "# Count the total number of the unique departments\n",
        "\n",
        "student_data = pd.read_csv(\"student_data.csv\")\n",
        "\n",
        "unique_departments = student_data[\"department\"].nunique()\n",
        "\n",
        "print(f\"Total number unique departments: {unique_departments}\")"
      ]
    },
    {
      "cell_type": "code",
      "execution_count": 38,
      "metadata": {
        "colab": {
          "base_uri": "https://localhost:8080/"
        },
        "id": "qefdpHPfcKp2",
        "outputId": "8c8f3a08-e4d3-4462-d06a-565b25696399"
      },
      "outputs": [
        {
          "output_type": "stream",
          "name": "stdout",
          "text": [
            "Empty DataFrame\n",
            "Columns: [id, first_name, last_name, email, gender, ip_address, cgpa, passing_year, department, attendance, home_district, abroad_study, student_id, graduation_date, study_abroad_country, study_abroad_city, hsc_gpa, ssc_gpa]\n",
            "Index: []\n"
          ]
        }
      ],
      "source": [
        "# Display students who have attended study abroad in the USA\n",
        "\n",
        "usa_students = student_data[student_data[\"study_abroad_country\"] == \"USA\"]\n",
        "\n",
        "print(usa_students)"
      ]
    },
    {
      "cell_type": "code",
      "source": [
        "# Calculate the percentage of the students who have completed their graduation\n",
        "\n",
        "total_students = len(student_data)\n",
        "\n",
        "graduate_students = len(student_data[student_data[\"graduation_date\"] < 2020])\n",
        "\n",
        "graduate_percentage = (graduate_students / total_students) * 100\n",
        "\n",
        "print(\"Students having graduation date before 2020 is considered as graduate\")\n",
        "\n",
        "print()\n",
        "\n",
        "print(f\"Percentage of Graduate Students: {graduate_percentage}%\")"
      ],
      "metadata": {
        "colab": {
          "base_uri": "https://localhost:8080/"
        },
        "id": "bNqHErn7em3u",
        "outputId": "10d5609a-e8c1-4549-c305-f3c1ed6dfaf3"
      },
      "execution_count": 40,
      "outputs": [
        {
          "output_type": "stream",
          "name": "stdout",
          "text": [
            "Students having graduation date before 2020 is considered as graduate\n",
            "\n",
            "Percentage of Graduate Students: 94.69999999999999%\n"
          ]
        }
      ]
    },
    {
      "cell_type": "code",
      "source": [
        "# Create a new column for students with an average GPA of 4 in both SSC and HSC\n",
        "\n",
        "student_data[\"average_gpa_4\"] = ((student_data[\"ssc_gpa\"] + student_data[\"hsc_gpa\"]) / 2) == 4\n",
        "\n",
        "student_data[\"average_gpa_4\"] = student_data[\"average_gpa_4\"].apply(lambda x: \"Yes\" if x else \"No\")\n",
        "\n",
        "print(student_data[[\"id\",\"first_name\",\"last_name\",\"email\",\"average_gpa_4\"]].sample(2))\n",
        "\n",
        "student_data.to_csv(\"updated_students_data.csv\", index=False)"
      ],
      "metadata": {
        "colab": {
          "base_uri": "https://localhost:8080/"
        },
        "id": "756PeYxue84d",
        "outputId": "c14675bf-a91d-48bb-a565-439a378be1f2"
      },
      "execution_count": 49,
      "outputs": [
        {
          "output_type": "stream",
          "name": "stdout",
          "text": [
            "      id first_name last_name                  email average_gpa_4\n",
            "620  621     Gerick   Dickson  gdicksonh8@google.com            No\n",
            "384  385    Minerva  Fullagar   mfullagarao@ebay.com            No\n"
          ]
        }
      ]
    },
    {
      "cell_type": "code",
      "execution_count": 50,
      "metadata": {
        "colab": {
          "base_uri": "https://localhost:8080/",
          "height": 585
        },
        "id": "E479qg-LerY6",
        "outputId": "f12c0363-aa26-40bd-8b1e-0ee93b1e63b9"
      },
      "outputs": [
        {
          "output_type": "display_data",
          "data": {
            "text/plain": [
              "<Figure size 640x480 with 1 Axes>"
            ],
            "image/png": "[encoded data removed]"
          },
          "metadata": {}
        }
      ],
      "source": [
        "# Plot a bar chart of attendance percentage per department\n",
        "\n",
        "attendance_per_department = student_data.groupby(\"department\")[\"attendance\"].mean()\n",
        "\n",
        "attendance_per_department.plot(kind=\"bar\", color=\"darkgray\", edgecolor=\"black\")\n",
        "\n",
        "plt.title(\"Average Attendance Percentage Per Department\")\n",
        "plt.xlabel(\"Department\")\n",
        "plt.ylabel(\"Attendance\")\n",
        "\n",
        "plt.show()"
      ]
    }
  ],
  "metadata": {
    "colab": {
      "provenance": []
    },
    "kernelspec": {
      "display_name": "Python 3",
      "name": "python3"
    },
    "language_info": {
      "name": "python"
    }
  },
  "nbformat": 4,
  "nbformat_minor": 0
}